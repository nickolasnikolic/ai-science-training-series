{
  "cells": [
    {
      "cell_type": "code",
      "execution_count": null,
      "metadata": {
        "id": "-VeWFIelR37S"
      },
      "outputs": [],
      "source": [
        "import numpy as np\n",
        "import pandas as pd\n",
        "import matplotlib.pyplot as plt\n",
        "import IPython.display as ipydis\n",
        "import time\n"
      ]
    },
    {
      "cell_type": "code",
      "execution_count": null,
      "metadata": {
        "colab": {
          "base_uri": "https://localhost:8080/",
          "height": 206
        },
        "id": "x69hkIl6Td22",
        "outputId": "8b0c7e23-df88-4ba0-aadc-65215eade38d"
      },
      "outputs": [],
      "source": [
        "data = pd.read_csv('/slimmed_realestate_data.csv')\n",
        "data.tail()\n"
      ]
    },
    {
      "cell_type": "code",
      "execution_count": null,
      "metadata": {
        "colab": {
          "base_uri": "https://localhost:8080/",
          "height": 466
        },
        "id": "v1zdqCvUT3s6",
        "outputId": "ecff966c-ebd8-4681-db08-7158cb9ebeba"
      },
      "outputs": [],
      "source": [
        "data.plot(x='GrLivArea', y='SalePrice', style='.')"
      ]
    },
    {
      "cell_type": "code",
      "execution_count": null,
      "metadata": {
        "id": "FgSXYu8aUK0t"
      },
      "outputs": [],
      "source": [
        "n = len(data)"
      ]
    },
    {
      "cell_type": "code",
      "execution_count": null,
      "metadata": {
        "id": "SyQS_7pPUdFa"
      },
      "outputs": [],
      "source": [
        "x = data['GrLivArea'].to_numpy()\n",
        "y = data['SalePrice'].to_numpy()"
      ]
    },
    {
      "cell_type": "code",
      "execution_count": null,
      "metadata": {
        "id": "tT8N7-vuUrbi"
      },
      "outputs": [],
      "source": [
        "sum_xy = np.sum(x * y)\n",
        "sum_x = np.sum(x)\n",
        "sum_y = np.sum(y)\n",
        "sum_x2 = np.sum(x * x)"
      ]
    },
    {
      "cell_type": "code",
      "execution_count": null,
      "metadata": {
        "id": "WeJvw4lJVAVW"
      },
      "outputs": [],
      "source": [
        "denominator = n * sum_x2 - sum_x * sum_x"
      ]
    },
    {
      "cell_type": "code",
      "execution_count": null,
      "metadata": {
        "colab": {
          "base_uri": "https://localhost:8080/"
        },
        "id": "lNoQdX3XVWM1",
        "outputId": "6ab6b1ca-13e7-4d51-bc4b-47fe9a372cd3"
      },
      "outputs": [],
      "source": [
        "m = (n * sum_xy - sum_x * sum_y) / denominator\n",
        "b = (sum_y * sum_x2 - sum_x * sum_xy) / denominator\n",
        "\n",
        "print('y = %f * x + %f' % (m, b))\n",
        "\n",
        "m_calc = m\n",
        "b_calc = b"
      ]
    },
    {
      "cell_type": "code",
      "execution_count": null,
      "metadata": {
        "id": "SX-2VtDBWTd4"
      },
      "outputs": [],
      "source": [
        "def plot_data(x, y, m, b, plt=plt):\n",
        "  plt.plot(x, y, 'bo')\n",
        "\n",
        "  linear_x = np.arange(x.min(), x.max())\n",
        "  linear_y = linear_x * m + b\n",
        "  plt.plot(linear_x, linear_y, 'r-', label='fit')\n",
        "\n",
        "  plt.xlabel(\"Ground Living Area\")\n",
        "  plt.ylabel(\"Saale Price\")"
      ]
    },
    {
      "cell_type": "code",
      "execution_count": null,
      "metadata": {
        "colab": {
          "base_uri": "https://localhost:8080/",
          "height": 449
        },
        "id": "JYOH2QxmXVdC",
        "outputId": "7536d436-09a1-445f-e055-747551b462f8"
      },
      "outputs": [],
      "source": [
        "plot_data(x, y, m, b)"
      ]
    },
    {
      "cell_type": "code",
      "execution_count": null,
      "metadata": {
        "id": "6ZU6wXdvXjb5"
      },
      "outputs": [],
      "source": [
        "def model(x, m, b):\n",
        "  return m * x + b"
      ]
    },
    {
      "cell_type": "code",
      "execution_count": null,
      "metadata": {
        "id": "8tgACBdjXsQ4"
      },
      "outputs": [],
      "source": [
        "def loss(x, y, m, b):\n",
        "  y_predicted = model(x, m, b)\n",
        "  return np.power(y - y_predicted, 2)"
      ]
    },
    {
      "cell_type": "code",
      "execution_count": null,
      "metadata": {
        "id": "1QrMgFg-YwJx"
      },
      "outputs": [],
      "source": [
        "def updated_m(x,y,m,b,learning_rate):\n",
        "   dL_dm = - 2 * x * (y - model(x,m,b))\n",
        "   dL_dm = np.mean(dL_dm)\n",
        "   return m - learning_rate * dL_dm\n",
        "\n",
        "def updated_b(x,y,m,b,learning_rate):\n",
        "   dL_db = - 2 * (y - model(x,m,b))\n",
        "   dL_db = np.mean(dL_db)\n",
        "   return b - learning_rate * dL_db"
      ]
    },
    {
      "cell_type": "code",
      "execution_count": null,
      "metadata": {
        "colab": {
          "base_uri": "https://localhost:8080/"
        },
        "id": "gHqA5wTSY3Ou",
        "outputId": "0f93c84a-040e-4739-9e66-9b4bb8c49355"
      },
      "outputs": [],
      "source": [
        "m = 5.0\n",
        "b = 1000.0\n",
        "print('y_i = %.2f * x + %.2f' % (m,b))"
      ]
    },
    {
      "cell_type": "code",
      "execution_count": null,
      "metadata": {
        "colab": {
          "base_uri": "https://localhost:8080/"
        },
        "id": "pO5fUItdZFhZ",
        "outputId": "a452cc8d-ccb3-4d62-c626-7a2715e255ac"
      },
      "outputs": [],
      "source": [
        "l = loss(x,y,m,b)\n",
        "print('first 10 loss values: ',l[:10])"
      ]
    },
    {
      "cell_type": "code",
      "execution_count": null,
      "metadata": {},
      "outputs": [],
      "source": [
        "def updated_m(x,y,m,b,learning_rate):\n",
        "   dL_dm = - 2 * x * (y - model(x,m,b))\n",
        "   dL_dm = np.mean(dL_dm)\n",
        "   return m - learning_rate * dL_dm\n",
        "\n",
        "def updated_b(x,y,m,b,learning_rate):\n",
        "   dL_db = - 2 * (y - model(x,m,b))\n",
        "   dL_db = np.mean(dL_db)\n",
        "   return b - learning_rate * dL_db"
      ]
    },
    {
      "cell_type": "code",
      "execution_count": null,
      "metadata": {
        "colab": {
          "base_uri": "https://localhost:8080/",
          "height": 466
        },
        "id": "fpUX81M9ZGZC",
        "outputId": "ed95ce2c-a33c-4fa2-9486-dd0cff7d8964"
      },
      "outputs": [],
      "source": [
        "learning_rate = 1e-9\n",
        "m = updated_m(x,y,m,b,learning_rate)\n",
        "b = updated_b(x,y,m,b,learning_rate)\n",
        "print('y_i = %.2f * x + %.2f     previously calculated: y_i = %.2f * x + %.2f' % (m,b,m_calc,b_calc))\n",
        "plot_data(x,y,m,b)"
      ]
    },
    {
      "cell_type": "code",
      "execution_count": null,
      "metadata": {
        "colab": {
          "base_uri": "https://localhost:8080/",
          "height": 454
        },
        "id": "S-YplewRZNZi",
        "outputId": "210df2f4-c9af-45ee-8a30-a0d8ec63bdcb"
      },
      "outputs": [],
      "source": [
        "# set our initial slope and intercept\n",
        "m = 5.0\n",
        "b = 1000.0\n",
        "# batch_size = 60\n",
        "# set a learning rate for each parameter\n",
        "learning_rate_m = 1e-7\n",
        "learning_rate_b = 1e-1\n",
        "# use these to plot our progress over time\n",
        "loss_history = []\n",
        "\n",
        "# we run our loop N times\n",
        "loop_n_total = 30\n",
        "loop_start_index = 30\n",
        "loop_batch_size = 5\n",
        "for loop in range(loop_start_index,loop_n_total):\n",
        "   loop -= loop_n_total - loop_start_index\n",
        "   loop_start_index -= loop_batch_size\n",
        "   for i in range(loop):\n",
        "\n",
        "      # convert panda data to numpy arrays, one for the \"Ground Living Area\" and one for \"Sale Price\"\n",
        "      data_x = data['GrLivArea'].to_numpy()\n",
        "      data_y = data['SalePrice'].to_numpy()\n",
        "\n",
        "      # update our slope and intercept based on the current values\n",
        "      m = updated_m(data_x,data_y,m,b,learning_rate_m)\n",
        "      b = updated_b(data_x,data_y,m,b,learning_rate_b)\n",
        "\n",
        "      # calculate the loss value\n",
        "      loss_value = np.mean(loss(data_x,data_y,m,b))\n",
        "\n",
        "      # keep a history of our loss values\n",
        "      loss_history.append(loss_value)\n",
        "\n",
        "      # print our progress\n",
        "      print('[%03d]  dy_i = %.2f * x + %.2f     previously calculated: y_i = %.2f * x + %.2f    loss: %f' % (i,m,b,m_calc,b_calc,loss_value))\n",
        "\n",
        "      # close/delete previous plots\n",
        "      plt.close('all')\n",
        "\n",
        "      # create a 1 by 2 plot grid\n",
        "      fig,ax = plt.subplots(1,2,figsize=(18,6),dpi=80)\n",
        "      # lot our usual output\n",
        "      plot_data(data_x,data_y,m,b)\n",
        "\n",
        "      # here we also plot the calculated linear fit for comparison\n",
        "      line_x = np.arange(data_x.min(),data_x.max())\n",
        "      line_y = line_x * m_calc + b_calc\n",
        "      ax[0].plot(line_x,line_y,'b-',label='calculated')\n",
        "      # add a legend to the plot and x/y labels\n",
        "      ax[0].legend()\n",
        "      ax[0].set_xlabel('square footage')\n",
        "      ax[0].set_ylabel('sale price')\n",
        "\n",
        "      # plot the loss\n",
        "      loss_x = np.arange(0,len(loss_history))\n",
        "      loss_y = np.asarray(loss_history)\n",
        "      ax[1].plot(loss_x,loss_y, 'o-')\n",
        "      ax[1].set_yscale('log')\n",
        "      ax[1].set_xlabel('loop step')\n",
        "      ax[1].set_ylabel('loss')\n",
        "      plt.show()\n",
        "      # gives us time to see the plot\n",
        "      time.sleep(2.5)\n",
        "      # clears the plot when the next plot is ready to show.\n",
        "      ipydis.clear_output(wait=True)"
      ]
    }
  ],
  "metadata": {
    "colab": {
      "provenance": []
    },
    "kernelspec": {
      "display_name": "Python 3",
      "name": "python3"
    },
    "language_info": {
      "codemirror_mode": {
        "name": "ipython",
        "version": 3
      },
      "file_extension": ".py",
      "mimetype": "text/x-python",
      "name": "python",
      "nbconvert_exporter": "python",
      "pygments_lexer": "ipython3",
      "version": "3.12.1"
    }
  },
  "nbformat": 4,
  "nbformat_minor": 0
}
